{
 "metadata": {
  "name": "",
  "signature": "sha256:d68a3bd02e534285ebbeaaf82f29455488e5b79e9819235781f486f0b0e60f69"
 },
 "nbformat": 3,
 "nbformat_minor": 0,
 "worksheets": [
  {
   "cells": [
    {
     "cell_type": "code",
     "collapsed": false,
     "input": [
      "import pandas.io.sql as psql\n",
      "import numpy as np\n",
      "import pandas as pd\n",
      "import csv, mysql.connector\n",
      "\n",
      "new_cnx = mysql.connector.connect(user='root', host='127.0.0.1', database='CRISPR')\n",
      "old_cnx = mysql.connector.connect(user='root', host='127.0.0.1', database='t')"
     ],
     "language": "python",
     "metadata": {},
     "outputs": [],
     "prompt_number": 1
    },
    {
     "cell_type": "code",
     "collapsed": false,
     "input": [
      "# go through list of genes in sgRNA and see how many don't match\n",
      "genes = psql.read_frame('select gene_name FROM gene',new_cnx)['gene_name'].values\n",
      "cursor = new_cnx.cursor()\n",
      "cursor.execute('select gene_name FROM sgRNAs GROUP BY gene_name')\n",
      "missing_count = 0\n",
      "for (gene_name,) in cursor:\n",
      "    if gene_name.strip() is '':\n",
      "        continue\n",
      "    if gene_name not in genes:\n",
      "        missing_count += 1\n",
      "        print missing_count, ':', gene_name"
     ],
     "language": "python",
     "metadata": {},
     "outputs": [
      {
       "output_type": "stream",
       "stream": "stdout",
       "text": [
        "1 :  \n",
        "2"
       ]
      },
      {
       "output_type": "stream",
       "stream": "stdout",
       "text": [
        " : Phantom Gene\n"
       ]
      }
     ],
     "prompt_number": 12
    },
    {
     "cell_type": "markdown",
     "metadata": {},
     "source": [
      "## Note to self:\n",
      "I had 12 additonal rows at first that I manually edited the sgRNAs table to make those results match gene_name in GENE"
     ]
    }
   ],
   "metadata": {}
  }
 ]
}
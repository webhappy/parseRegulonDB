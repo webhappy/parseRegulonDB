{
 "metadata": {
  "name": "",
  "signature": "sha256:549539670211ecb8827cc894e229289a9edc85d46488519036cb02dd76b15a9f"
 },
 "nbformat": 3,
 "nbformat_minor": 0,
 "worksheets": [
  {
   "cells": [
    {
     "cell_type": "code",
     "collapsed": false,
     "input": [
      "import pandas.io.sql as psql\n",
      "import numpy as np\n",
      "import pandas as pd\n",
      "import csv, mysql.connector"
     ],
     "language": "python",
     "metadata": {},
     "outputs": [],
     "prompt_number": 2
    },
    {
     "cell_type": "code",
     "collapsed": false,
     "input": [
      "con=mysql.connector.connect(user='root', host='127.0.0.1', database='CRISPR')\n",
      "df = psql.read_frame('select gene_name,gene_strand,gene_posleft,gene_posright,operon_pos from GENE',con,'gene_name')"
     ],
     "language": "python",
     "metadata": {},
     "outputs": [],
     "prompt_number": 114
    },
    {
     "cell_type": "markdown",
     "metadata": {},
     "source": [
      "### We have to assign a log FC for each gene"
     ]
    },
    {
     "cell_type": "markdown",
     "metadata": {},
     "source": [
      "#### Calculate median from within MySQL"
     ]
    },
    {
     "cell_type": "code",
     "collapsed": false,
     "input": [
      "COMPARISON_TO_USE = 1  # Check that this is aerobic\n",
      "gene_scores = {}\n",
      "\n",
      "cursor = con.cursor()\n",
      "cursor.execute('CREATE TEMPORARY TABLE temp_median (id INT AUTO_INCREMENT PRIMARY KEY) SELECT gene_name, val FROM tickers LEFT JOIN sgRNAs on sgRNA_id=sgRNAs.id where comparison_id=1 ORDER BY gene_name, val')\n",
      "cursor.execute('CREATE TEMPORARY TABLE temp_median_ids SELECT FLOOR(AVG(id)) AS id_1, CEILING(AVG(id)) AS id_2 FROM temp_median GROUP BY gene_name;')\n",
      "cursor.execute('SELECT gene_name, avg(val) as val FROM temp_median_ids LEFT JOIN temp_median ON (id=id_1 OR id=id_2) GROUP BY gene_name')\n",
      "for gene_name, val in cursor:\n",
      "    gene_scores[gene_name] = val\n",
      "cursor.execute('DROP TABLE temp_median, temp_median_ids')\n",
      "# for gene_name in df.index:\n",
      "#     sgRNAs = psql.read_frame('select val FROM tickers LEFT JOIN sgRNAs on sgRNA_id=sgRNAs.id where comparison_id=%s AND sgRNAs.gene_name=%s'\n",
      "#                              ,con,params=(COMPARISON_TO_USE,gene_name))\n",
      "#     gene_scores[gene_name] = sgRNAs['val'].median()\n",
      "df['scores'] = pd.Series(gene_scores)"
     ],
     "language": "python",
     "metadata": {},
     "outputs": [],
     "prompt_number": 115
    },
    {
     "cell_type": "markdown",
     "metadata": {},
     "source": [
      "## Now do all analysis of operon effects"
     ]
    },
    {
     "cell_type": "code",
     "collapsed": false,
     "input": [
      "PECgenes=psql.read_frame('select gene_name from PEC',con)\n",
      "PECgenes=PECgenes['gene_name'].values"
     ],
     "language": "python",
     "metadata": {},
     "outputs": [],
     "prompt_number": 91
    },
    {
     "cell_type": "code",
     "collapsed": false,
     "input": [
      "tails=[]  # Append pointers to tails here\n",
      "genes = df\n",
      "for strand in ['forward','reverse']:\n",
      "    last=None\n",
      "    genesInDir = genes[(genes['gene_strand']==strand)]\n",
      "    if strand == 'forward':\n",
      "        genesInDir.sort('gene_posleft',ascending=True,inplace=True)\n",
      "    else:\n",
      "        genesInDir.sort('gene_posright',ascending=False,inplace=True)\n",
      "    for (gene,strand,left,right,pos,avgLR) in genesInDir.itertuples(index=True):\n",
      "        if gene =='' or gene=='None':\n",
      "            continue\n",
      "        if last is None:\n",
      "            count=1\n",
      "            last={'gene':gene,'val':avgLR,'prev':None}\n",
      "        elif pos==1:\n",
      "            #print \"%s has count %i\"%(gene,count)\n",
      "            tails.append(last)\n",
      "            last={'gene':gene,'val':avgLR,'prev':None}\n",
      "            count=1\n",
      "        else:\n",
      "            count+=1\n",
      "            cur={'gene':gene,'prev':last,'val':avgLR}\n",
      "            last=cur\n",
      "    tails.append(last)"
     ],
     "language": "python",
     "metadata": {},
     "outputs": [],
     "prompt_number": 116
    },
    {
     "cell_type": "markdown",
     "metadata": {},
     "source": [
      "### What's the best case operon effect?"
     ]
    },
    {
     "cell_type": "code",
     "collapsed": false,
     "input": [
      "essentials_with_essential_later = 0\n",
      "first_essentials = 0\n",
      "genes_before_essential = 0\n",
      "\n",
      "for cur in tails:\n",
      "    seen_essential = False\n",
      "    while cur is not None:\n",
      "        if seen_essential:\n",
      "            genes_before_essential += 1\n",
      "        if cur['gene'] in PECgenes:\n",
      "            if seen_essential:\n",
      "                essentials_with_essential_later += 1\n",
      "            else:\n",
      "                first_essentials += 1\n",
      "            seen_essential = True\n",
      "        cur = cur['prev']\n",
      "\n",
      "print \"# essentials at end of operon\",first_essentials,'and # before another essential',essentials_with_essential_later\n",
      "print 'Total # of genes (essential+nonessential) before an essential gene:',genes_before_essential"
     ],
     "language": "python",
     "metadata": {},
     "outputs": [
      {
       "output_type": "stream",
       "stream": "stdout",
       "text": [
        "# essentials at end of operon 189 and # before another essential 113\n",
        "Total # of genes (essential+nonessential) before an essential gene: 210\n"
       ]
      }
     ],
     "prompt_number": 100
    },
    {
     "cell_type": "markdown",
     "metadata": {},
     "source": [
      "### Plot precision/recall"
     ]
    },
    {
     "cell_type": "code",
     "collapsed": false,
     "input": [
      "def getPrecisionRecall (pointersToTails,cutoff,knownEssentials):\n",
      "    determinedSick=[]\n",
      "    determinedNonSick=[]\n",
      "    undetermined=[]\n",
      "    no_effect_measured = []  # Genes that we don't have an sgRNA for\n",
      "    unexpectedHealthy = []  # Genes that are healthy despite someone downstream being sick\n",
      "    for pointer in pointersToTails:\n",
      "        cur=pointer\n",
      "        can_determine = True\n",
      "        while cur is not None:\n",
      "            if math.isnan(cur['val']) :\n",
      "                undetermined.append(cur['gene'])\n",
      "                no_effect_measured.append(cur['gene'])\n",
      "            else:\n",
      "                if cur['val'] > cutoff:\n",
      "                    determinedNonSick.append(cur['gene'])\n",
      "                    if not can_determine:\n",
      "                        unexpectedHealthy.append(cur['gene'])\n",
      "                else:  # this gene is sicker than cutoff\n",
      "                    if not can_determine:\n",
      "                        undetermined.append(cur['gene'])\n",
      "                    else:\n",
      "                        determinedSick.append(cur['gene'])\n",
      "                        can_determine=False\n",
      "            cur = cur['prev']\n",
      "\n",
      "    TP = 0;  # True positives\n",
      "    essentials_classified_healthy = 0;  # False negative\n",
      "    undeterminedEssential = 0;\n",
      "    no_effect_count = 0;\n",
      "\n",
      "    for gene in knownEssentials:\n",
      "        if gene in determinedSick:\n",
      "            TP+=1\n",
      "        elif gene in determinedNonSick:\n",
      "            essentials_classified_healthy+=1\n",
      "        elif gene in undetermined:\n",
      "            undeterminedEssential+=1\n",
      "            if gene in no_effect_measured:\n",
      "                no_effect_count += 1\n",
      "        else:\n",
      "            print gene,\"not found in any of the arrays!\"\n",
      "\n",
      "    # Want the true negative count\n",
      "    TN = 0\n",
      "    for gene in determinedNonSick:\n",
      "        if gene not in knownEssentials:\n",
      "            TN += 1\n",
      "\n",
      "    # How many actual negatives are there? Total # of genes - # in PEC\n",
      "    knownNumNonEssential = len(determinedNonSick) + len(determinedSick) + len(undetermined) - len(knownEssentials)\n",
      "\n",
      "    return TP*1.0/len(knownEssentials), TN*1.0/knownNumNonEssential, TP*1.0/len(determinedSick)\n",
      "\n",
      "results_recall = []\n",
      "results_specificity = []\n",
      "results_precision = []\n",
      "for cutoff in np.arange(-1,-5,-.05):\n",
      "    (recall,specificity,precision)=getPrecisionRecall(tails,cutoff,PECgenes)\n",
      "    results_recall.append(recall)\n",
      "    results_specificity.append(specificity)\n",
      "    results_precision.append(precision)"
     ],
     "language": "python",
     "metadata": {},
     "outputs": [
      {
       "output_type": "stream",
       "stream": "stdout",
       "text": [
        "TP=132, essentials w/out effect=0, essentials classified as healthy=63, undetermined from polarity=107, size of determined sick=220, size of undetermined=460\n",
        "TP=129, essentials w/out effect=0, essentials classified as healthy=69, undetermined from polarity=104, size of determined sick=214, size of undetermined=456"
       ]
      },
      {
       "output_type": "stream",
       "stream": "stdout",
       "text": [
        "\n",
        "TP=129, essentials w/out effect=0, essentials classified as healthy=69, undetermined from polarity=104, size of determined sick=212, size of undetermined=454"
       ]
      },
      {
       "output_type": "stream",
       "stream": "stdout",
       "text": [
        "\n",
        "TP=126, essentials w/out effect=0, essentials classified as healthy=73, undetermined from polarity=103, size of determined sick=207, size of undetermined=451"
       ]
      },
      {
       "output_type": "stream",
       "stream": "stdout",
       "text": [
        "\n",
        "TP=126, essentials w/out effect=0, essentials classified as healthy=73, undetermined from polarity=103, size of determined sick=202, size of undetermined=450"
       ]
      },
      {
       "output_type": "stream",
       "stream": "stdout",
       "text": [
        "\n",
        "TP=125, essentials w/out effect=0, essentials classified as healthy=74, undetermined from polarity=103, size of determined sick=199, size of undetermined=447"
       ]
      },
      {
       "output_type": "stream",
       "stream": "stdout",
       "text": [
        "\n",
        "TP=124, essentials w/out effect=0, essentials classified as healthy=75, undetermined from polarity=103, size of determined sick=195, size of undetermined=446"
       ]
      },
      {
       "output_type": "stream",
       "stream": "stdout",
       "text": [
        "\n",
        "TP=123, essentials w/out effect=0, essentials classified as healthy=78, undetermined from polarity=101, size of determined sick=192, size of undetermined=441"
       ]
      },
      {
       "output_type": "stream",
       "stream": "stdout",
       "text": [
        "\n",
        "TP=123, essentials w/out effect=0, essentials classified as healthy=78, undetermined from polarity=101, size of determined sick=190, size of undetermined=440"
       ]
      },
      {
       "output_type": "stream",
       "stream": "stdout",
       "text": [
        "\n",
        "TP=120, essentials w/out effect=0, essentials classified as healthy=81, undetermined from polarity=101, size of determined sick=186, size of undetermined=440"
       ]
      },
      {
       "output_type": "stream",
       "stream": "stdout",
       "text": [
        "\n",
        "TP=120, essentials w/out effect=0, essentials classified as healthy=81, undetermined from polarity=101, size of determined sick=183, size of undetermined=440"
       ]
      },
      {
       "output_type": "stream",
       "stream": "stdout",
       "text": [
        "\n",
        "TP=120, essentials w/out effect=0, essentials classified as healthy=85, undetermined from polarity=97, size of determined sick=183, size of undetermined=436"
       ]
      },
      {
       "output_type": "stream",
       "stream": "stdout",
       "text": [
        "\n",
        "TP=115, essentials w/out effect=0, essentials classified as healthy=91, undetermined from polarity=96, size of determined sick=175, size of undetermined=433"
       ]
      },
      {
       "output_type": "stream",
       "stream": "stdout",
       "text": [
        "\n",
        "TP=113, essentials w/out effect=0, essentials classified as healthy=93, undetermined from polarity=96, size of determined sick=173, size of undetermined=432"
       ]
      },
      {
       "output_type": "stream",
       "stream": "stdout",
       "text": [
        "\n",
        "TP=112, essentials w/out effect=0, essentials classified as healthy=95, undetermined from polarity=95, size of determined sick=169, size of undetermined=430"
       ]
      },
      {
       "output_type": "stream",
       "stream": "stdout",
       "text": [
        "\n",
        "TP=110, essentials w/out effect=0, essentials classified as healthy=98, undetermined from polarity=94, size of determined sick=167, size of undetermined=429"
       ]
      },
      {
       "output_type": "stream",
       "stream": "stdout",
       "text": [
        "\n",
        "TP=109, essentials w/out effect=0, essentials classified as healthy=101, undetermined from polarity=92, size of determined sick=163, size of undetermined=427"
       ]
      },
      {
       "output_type": "stream",
       "stream": "stdout",
       "text": [
        "\n",
        "TP=108, essentials w/out effect=0, essentials classified as healthy=102, undetermined from polarity=92, size of determined sick=161, size of undetermined=425"
       ]
      },
      {
       "output_type": "stream",
       "stream": "stdout",
       "text": [
        "\n",
        "TP=103, essentials w/out effect=0, essentials classified as healthy=107, undetermined from polarity=92, size of determined sick=154, size of undetermined=424"
       ]
      },
      {
       "output_type": "stream",
       "stream": "stdout",
       "text": [
        "\n",
        "TP=103, essentials w/out effect=0, essentials classified as healthy=107, undetermined from polarity=92, size of determined sick=153, size of undetermined=422"
       ]
      },
      {
       "output_type": "stream",
       "stream": "stdout",
       "text": [
        "\n",
        "TP=102, essentials w/out effect=0, essentials classified as healthy=108, undetermined from polarity=92, size of determined sick=149, size of undetermined=422"
       ]
      },
      {
       "output_type": "stream",
       "stream": "stdout",
       "text": [
        "\n",
        "TP=101, essentials w/out effect=0, essentials classified as healthy=109, undetermined from polarity=92, size of determined sick=148, size of undetermined=422"
       ]
      },
      {
       "output_type": "stream",
       "stream": "stdout",
       "text": [
        "\n",
        "TP=99, essentials w/out effect=0, essentials classified as healthy=113, undetermined from polarity=90, size of determined sick=146, size of undetermined=419"
       ]
      },
      {
       "output_type": "stream",
       "stream": "stdout",
       "text": [
        "\n",
        "TP=99, essentials w/out effect=0, essentials classified as healthy=113, undetermined from polarity=90, size of determined sick=146, size of undetermined=419"
       ]
      },
      {
       "output_type": "stream",
       "stream": "stdout",
       "text": [
        "\n",
        "TP=97, essentials w/out effect=0, essentials classified as healthy=115, undetermined from polarity=90, size of determined sick=141, size of undetermined=419"
       ]
      },
      {
       "output_type": "stream",
       "stream": "stdout",
       "text": [
        "\n",
        "TP=96, essentials w/out effect=0, essentials classified as healthy=116, undetermined from polarity=90, size of determined sick=140, size of undetermined=416"
       ]
      },
      {
       "output_type": "stream",
       "stream": "stdout",
       "text": [
        "\n",
        "TP=93, essentials w/out effect=0, essentials classified as healthy=119, undetermined from polarity=90, size of determined sick=137, size of undetermined=416"
       ]
      },
      {
       "output_type": "stream",
       "stream": "stdout",
       "text": [
        "\n",
        "TP=91, essentials w/out effect=0, essentials classified as healthy=121, undetermined from polarity=90, size of determined sick=135, size of undetermined=415"
       ]
      },
      {
       "output_type": "stream",
       "stream": "stdout",
       "text": [
        "\n",
        "TP=92, essentials w/out effect=0, essentials classified as healthy=121, undetermined from polarity=89, size of determined sick=132, size of undetermined=413"
       ]
      },
      {
       "output_type": "stream",
       "stream": "stdout",
       "text": [
        "\n",
        "TP=90, essentials w/out effect=0, essentials classified as healthy=123, undetermined from polarity=89, size of determined sick=130, size of undetermined=411"
       ]
      },
      {
       "output_type": "stream",
       "stream": "stdout",
       "text": [
        "\n",
        "TP=88, essentials w/out effect=0, essentials classified as healthy=126, undetermined from polarity=88, size of determined sick=125, size of undetermined=410"
       ]
      },
      {
       "output_type": "stream",
       "stream": "stdout",
       "text": [
        "\n",
        "TP=89, essentials w/out effect=0, essentials classified as healthy=126, undetermined from polarity=87, size of determined sick=123, size of undetermined=408"
       ]
      },
      {
       "output_type": "stream",
       "stream": "stdout",
       "text": [
        "\n",
        "TP=87, essentials w/out effect=0, essentials classified as healthy=128, undetermined from polarity=87, size of determined sick=120, size of undetermined=408"
       ]
      },
      {
       "output_type": "stream",
       "stream": "stdout",
       "text": [
        "\n",
        "TP=87, essentials w/out effect=0, essentials classified as healthy=130, undetermined from polarity=85, size of determined sick=118, size of undetermined=406"
       ]
      },
      {
       "output_type": "stream",
       "stream": "stdout",
       "text": [
        "\n",
        "TP=87, essentials w/out effect=0, essentials classified as healthy=131, undetermined from polarity=84, size of determined sick=118, size of undetermined=404"
       ]
      },
      {
       "output_type": "stream",
       "stream": "stdout",
       "text": [
        "\n",
        "TP=86, essentials w/out effect=0, essentials classified as healthy=132, undetermined from polarity=84, size of determined sick=117, size of undetermined=402"
       ]
      },
      {
       "output_type": "stream",
       "stream": "stdout",
       "text": [
        "\n",
        "TP=84, essentials w/out effect=0, essentials classified as healthy=135, undetermined from polarity=83, size of determined sick=114, size of undetermined=401"
       ]
      },
      {
       "output_type": "stream",
       "stream": "stdout",
       "text": [
        "\n",
        "TP=83, essentials w/out effect=0, essentials classified as healthy=136, undetermined from polarity=83, size of determined sick=113, size of undetermined=399"
       ]
      },
      {
       "output_type": "stream",
       "stream": "stdout",
       "text": [
        "\n",
        "TP=80, essentials w/out effect=0, essentials classified as healthy=139, undetermined from polarity=83, size of determined sick=109, size of undetermined=399"
       ]
      },
      {
       "output_type": "stream",
       "stream": "stdout",
       "text": [
        "\n",
        "TP=80, essentials w/out effect=0, essentials classified as healthy=139, undetermined from polarity=83, size of determined sick=107, size of undetermined=398"
       ]
      },
      {
       "output_type": "stream",
       "stream": "stdout",
       "text": [
        "\n",
        "TP=80, essentials w/out effect=0, essentials classified as healthy=142, undetermined from polarity=80, size of determined sick=105, size of undetermined=395"
       ]
      },
      {
       "output_type": "stream",
       "stream": "stdout",
       "text": [
        "\n",
        "TP=80, essentials w/out effect=0, essentials classified as healthy=142, undetermined from polarity=80, size of determined sick=105, size of undetermined=395"
       ]
      },
      {
       "output_type": "stream",
       "stream": "stdout",
       "text": [
        "\n",
        "TP=79, essentials w/out effect=0, essentials classified as healthy=143, undetermined from polarity=80, size of determined sick=104, size of undetermined=395"
       ]
      },
      {
       "output_type": "stream",
       "stream": "stdout",
       "text": [
        "\n",
        "TP=78, essentials w/out effect=0, essentials classified as healthy=145, undetermined from polarity=79, size of determined sick=102, size of undetermined=394"
       ]
      },
      {
       "output_type": "stream",
       "stream": "stdout",
       "text": [
        "\n",
        "TP=77, essentials w/out effect=0, essentials classified as healthy=148, undetermined from polarity=77, size of determined sick=101, size of undetermined=392"
       ]
      },
      {
       "output_type": "stream",
       "stream": "stdout",
       "text": [
        "\n",
        "TP=77, essentials w/out effect=0, essentials classified as healthy=149, undetermined from polarity=76, size of determined sick=100, size of undetermined=391"
       ]
      },
      {
       "output_type": "stream",
       "stream": "stdout",
       "text": [
        "\n",
        "TP=75, essentials w/out effect=0, essentials classified as healthy=152, undetermined from polarity=75, size of determined sick=98, size of undetermined=390"
       ]
      },
      {
       "output_type": "stream",
       "stream": "stdout",
       "text": [
        "\n",
        "TP=74, essentials w/out effect=0, essentials classified as healthy=153, undetermined from polarity=75, size of determined sick=97, size of undetermined=390"
       ]
      },
      {
       "output_type": "stream",
       "stream": "stdout",
       "text": [
        "\n",
        "TP=74, essentials w/out effect=0, essentials classified as healthy=154, undetermined from polarity=74, size of determined sick=96, size of undetermined=388"
       ]
      },
      {
       "output_type": "stream",
       "stream": "stdout",
       "text": [
        "\n",
        "TP=74, essentials w/out effect=0, essentials classified as healthy=155, undetermined from polarity=73, size of determined sick=96, size of undetermined=387"
       ]
      },
      {
       "output_type": "stream",
       "stream": "stdout",
       "text": [
        "\n",
        "TP=74, essentials w/out effect=0, essentials classified as healthy=155, undetermined from polarity=73, size of determined sick=95, size of undetermined=387"
       ]
      },
      {
       "output_type": "stream",
       "stream": "stdout",
       "text": [
        "\n",
        "TP=73, essentials w/out effect=0, essentials classified as healthy=158, undetermined from polarity=71, size of determined sick=94, size of undetermined=385"
       ]
      },
      {
       "output_type": "stream",
       "stream": "stdout",
       "text": [
        "\n",
        "TP=71, essentials w/out effect=0, essentials classified as healthy=161, undetermined from polarity=70, size of determined sick=92, size of undetermined=384"
       ]
      },
      {
       "output_type": "stream",
       "stream": "stdout",
       "text": [
        "\n",
        "TP=70, essentials w/out effect=0, essentials classified as healthy=162, undetermined from polarity=70, size of determined sick=91, size of undetermined=384"
       ]
      },
      {
       "output_type": "stream",
       "stream": "stdout",
       "text": [
        "\n",
        "TP=69, essentials w/out effect=0, essentials classified as healthy=164, undetermined from polarity=69, size of determined sick=90, size of undetermined=383"
       ]
      },
      {
       "output_type": "stream",
       "stream": "stdout",
       "text": [
        "\n",
        "TP=69, essentials w/out effect=0, essentials classified as healthy=166, undetermined from polarity=67, size of determined sick=90, size of undetermined=381"
       ]
      },
      {
       "output_type": "stream",
       "stream": "stdout",
       "text": [
        "\n",
        "TP=68, essentials w/out effect=0, essentials classified as healthy=168, undetermined from polarity=66, size of determined sick=88, size of undetermined=379"
       ]
      },
      {
       "output_type": "stream",
       "stream": "stdout",
       "text": [
        "\n",
        "TP=68, essentials w/out effect=0, essentials classified as healthy=168, undetermined from polarity=66, size of determined sick=87, size of undetermined=379"
       ]
      },
      {
       "output_type": "stream",
       "stream": "stdout",
       "text": [
        "\n",
        "TP=68, essentials w/out effect=0, essentials classified as healthy=168, undetermined from polarity=66, size of determined sick=87, size of undetermined=379"
       ]
      },
      {
       "output_type": "stream",
       "stream": "stdout",
       "text": [
        "\n",
        "TP=67, essentials w/out effect=0, essentials classified as healthy=169, undetermined from polarity=66, size of determined sick=86, size of undetermined=379"
       ]
      },
      {
       "output_type": "stream",
       "stream": "stdout",
       "text": [
        "\n",
        "TP=67, essentials w/out effect=0, essentials classified as healthy=171, undetermined from polarity=64, size of determined sick=86, size of undetermined=377"
       ]
      },
      {
       "output_type": "stream",
       "stream": "stdout",
       "text": [
        "\n",
        "TP=65, essentials w/out effect=0, essentials classified as healthy=173, undetermined from polarity=64, size of determined sick=84, size of undetermined=377"
       ]
      },
      {
       "output_type": "stream",
       "stream": "stdout",
       "text": [
        "\n",
        "TP=65, essentials w/out effect=0, essentials classified as healthy=176, undetermined from polarity=61, size of determined sick=83, size of undetermined=374"
       ]
      },
      {
       "output_type": "stream",
       "stream": "stdout",
       "text": [
        "\n",
        "TP=63, essentials w/out effect=0, essentials classified as healthy=178, undetermined from polarity=61, size of determined sick=79, size of undetermined=373"
       ]
      },
      {
       "output_type": "stream",
       "stream": "stdout",
       "text": [
        "\n",
        "TP=64, essentials w/out effect=0, essentials classified as healthy=180, undetermined from polarity=58, size of determined sick=78, size of undetermined=370"
       ]
      },
      {
       "output_type": "stream",
       "stream": "stdout",
       "text": [
        "\n",
        "TP=62, essentials w/out effect=0, essentials classified as healthy=183, undetermined from polarity=57, size of determined sick=76, size of undetermined=369"
       ]
      },
      {
       "output_type": "stream",
       "stream": "stdout",
       "text": [
        "\n",
        "TP=60, essentials w/out effect=0, essentials classified as healthy=187, undetermined from polarity=55, size of determined sick=74, size of undetermined=367"
       ]
      },
      {
       "output_type": "stream",
       "stream": "stdout",
       "text": [
        "\n",
        "TP=59, essentials w/out effect=0, essentials classified as healthy=188, undetermined from polarity=55, size of determined sick=73, size of undetermined=366"
       ]
      },
      {
       "output_type": "stream",
       "stream": "stdout",
       "text": [
        "\n",
        "TP=59, essentials w/out effect=0, essentials classified as healthy=189, undetermined from polarity=54, size of determined sick=73, size of undetermined=365"
       ]
      },
      {
       "output_type": "stream",
       "stream": "stdout",
       "text": [
        "\n",
        "TP=58, essentials w/out effect=0, essentials classified as healthy=191, undetermined from polarity=53, size of determined sick=71, size of undetermined=364"
       ]
      },
      {
       "output_type": "stream",
       "stream": "stdout",
       "text": [
        "\n",
        "TP=58, essentials w/out effect=0, essentials classified as healthy=191, undetermined from polarity=53, size of determined sick=71, size of undetermined=364"
       ]
      },
      {
       "output_type": "stream",
       "stream": "stdout",
       "text": [
        "\n",
        "TP=57, essentials w/out effect=0, essentials classified as healthy=193, undetermined from polarity=52, size of determined sick=69, size of undetermined=363"
       ]
      },
      {
       "output_type": "stream",
       "stream": "stdout",
       "text": [
        "\n",
        "TP=55, essentials w/out effect=0, essentials classified as healthy=197, undetermined from polarity=50, size of determined sick=68, size of undetermined=359"
       ]
      },
      {
       "output_type": "stream",
       "stream": "stdout",
       "text": [
        "\n",
        "TP=55, essentials w/out effect=0, essentials classified as healthy=198, undetermined from polarity=49, size of determined sick=68, size of undetermined=358"
       ]
      },
      {
       "output_type": "stream",
       "stream": "stdout",
       "text": [
        "\n",
        "TP=54, essentials w/out effect=0, essentials classified as healthy=199, undetermined from polarity=49, size of determined sick=67, size of undetermined=358"
       ]
      },
      {
       "output_type": "stream",
       "stream": "stdout",
       "text": [
        "\n",
        "TP=52, essentials w/out effect=0, essentials classified as healthy=202, undetermined from polarity=48, size of determined sick=66, size of undetermined=356"
       ]
      },
      {
       "output_type": "stream",
       "stream": "stdout",
       "text": [
        "\n",
        "TP=52, essentials w/out effect=0, essentials classified as healthy=204, undetermined from polarity=46, size of determined sick=65, size of undetermined=354"
       ]
      },
      {
       "output_type": "stream",
       "stream": "stdout",
       "text": [
        "\n",
        "TP=51, essentials w/out effect=0, essentials classified as healthy=207, undetermined from polarity=44, size of determined sick=63, size of undetermined=352"
       ]
      },
      {
       "output_type": "stream",
       "stream": "stdout",
       "text": [
        "\n",
        "TP=51, essentials w/out effect=0, essentials classified as healthy=210, undetermined from polarity=41, size of determined sick=63, size of undetermined=348"
       ]
      },
      {
       "output_type": "stream",
       "stream": "stdout",
       "text": [
        "\n",
        "TP=48, essentials w/out effect=0, essentials classified as healthy=214, undetermined from polarity=40, size of determined sick=60, size of undetermined=347"
       ]
      },
      {
       "output_type": "stream",
       "stream": "stdout",
       "text": [
        "\n"
       ]
      }
     ],
     "prompt_number": 101
    },
    {
     "cell_type": "code",
     "collapsed": false,
     "input": [
      "plot(results_recall, results_precision);\n",
      "xlabel('Recall');\n",
      "ylabel('Precision');"
     ],
     "language": "python",
     "metadata": {},
     "outputs": [
      {
       "metadata": {},
       "output_type": "display_data",
       "png": "[encoded data removed]",
       "text": [
        "<matplotlib.figure.Figure at 0x10713c310>"
       ]
      }
     ],
     "prompt_number": 104
    }
   ],
   "metadata": {}
  }
 ]
}
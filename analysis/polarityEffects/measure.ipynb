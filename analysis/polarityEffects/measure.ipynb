{
 "metadata": {
  "name": "",
  "signature": "sha256:7b1a2d7d9c5745b20589a744fe696931872ff06103b761ad6ae6b2f78c5e0789"
 },
 "nbformat": 3,
 "nbformat_minor": 0,
 "worksheets": [
  {
   "cells": [
    {
     "cell_type": "code",
     "collapsed": false,
     "input": [
      "import pandas.io.sql as psql\n",
      "import numpy as np\n",
      "import pandas as pd\n",
      "import csv, mysql.connector"
     ],
     "language": "python",
     "metadata": {},
     "outputs": [],
     "prompt_number": 33
    },
    {
     "cell_type": "code",
     "collapsed": false,
     "input": [
      "con=mysql.connector.connect(user='root', host='127.0.0.1', database='t')\n",
      "genes=psql.read_frame('select gene_name,gene_strand,gene_posleft,gene_posright,operon_pos,median as avg_lr from GENE',con)"
     ],
     "language": "python",
     "metadata": {},
     "outputs": [],
     "prompt_number": 34
    },
    {
     "cell_type": "code",
     "collapsed": false,
     "input": [
      "outFile = open('genes_vs_operon_pos.csv', 'w')\n",
      "outFile.write('First_gene')\n",
      "for i in xrange(1,17):\n",
      "    outFile.write(', pos%i'%i)\n",
      "outFile.write('\\n')\n",
      "\n",
      "tails=[]  # Append pointers to tails here\n",
      "operonLengths = {}  # Dict mapping name of tail gene\n",
      "for strand in ['forward','reverse']:\n",
      "    first=None\n",
      "    genesInDir = genes[(genes['gene_strand']==strand)]\n",
      "    if strand == 'forward':\n",
      "        genesInDir = genesInDir.sort('gene_posleft',ascending=True)\n",
      "    else:\n",
      "        genesInDir = genesInDir.sort('gene_posright',ascending=False)\n",
      "    for (gene,strand,left,right,pos,avgLR) in genesInDir.itertuples(index=False):\n",
      "        if gene =='' or gene=='None':\n",
      "            continue\n",
      "        if first is None:\n",
      "            vals = [avgLR]\n",
      "            first = gene\n",
      "        elif pos==1:  # we're starting a new operon here\n",
      "            line = [first]\n",
      "            line.extend(vals)\n",
      "            outFile.write(', '.join(line) )\n",
      "            vals = [avgLR]\n",
      "            first = gene\n",
      "        else:\n",
      "            vals.append(avgLR)\n",
      "    line = [first]\n",
      "    line.extend(vals)\n",
      "    outFile.write(', '.join(line) )"
     ],
     "language": "python",
     "metadata": {},
     "outputs": []
    },
    {
     "cell_type": "code",
     "collapsed": false,
     "input": [
      "temp = ['pos'+str(x) for x in range(1,17)]\n",
      "temp"
     ],
     "language": "python",
     "metadata": {},
     "outputs": [
      {
       "metadata": {},
       "output_type": "pyout",
       "prompt_number": 2,
       "text": [
        "['pos1',\n",
        " 'pos2',\n",
        " 'pos3',\n",
        " 'pos4',\n",
        " 'pos5',\n",
        " 'pos6',\n",
        " 'pos7',\n",
        " 'pos8',\n",
        " 'pos9',\n",
        " 'pos10',\n",
        " 'pos11',\n",
        " 'pos12',\n",
        " 'pos13',\n",
        " 'pos14',\n",
        " 'pos15',\n",
        " 'pos16']"
       ]
      }
     ],
     "prompt_number": 2
    }
   ],
   "metadata": {}
  }
 ]
}
{
 "metadata": {
  "name": "",
  "signature": "sha256:efbe3150f64936eed6cb2031c023f05142efd3c78f8bdb2a1b2f192477054b6a"
 },
 "nbformat": 3,
 "nbformat_minor": 0,
 "worksheets": [
  {
   "cells": [
    {
     "cell_type": "code",
     "collapsed": false,
     "input": [
      "import pandas as pd\n",
      "df = pd.read_csv('selected.csv',index_col='seq')"
     ],
     "language": "python",
     "metadata": {},
     "outputs": [],
     "prompt_number": 6
    },
    {
     "cell_type": "code",
     "collapsed": false,
     "input": [
      "column_names_rep1 = {'control':('1_aerobic_t30_1_control', '1_aerobic_t60_1_control', '1_aerobic_t180_1_control'),\n",
      "              'chlor':('1_aerobic_t30_2_chlor', '1_aerobic_t60_2_chlor', '1_aerobic_t180_2_chlor'),\n",
      "              'nor':('1_aerobic_t30_6_nor', '1_aerobic_t60_6_nor', '1_aerobic_t180_6_Nor'),\n",
      "              }\n",
      "column_names_rep2 = {'control':('2_aerobic_Control_t30_2','2_aerobic_Control_t60_2','2_aerobic_Control_t180_2'),\n",
      "              'chlor':('2_aerobic_Chlor_t30_2','2_aerobic_Chlor_t60_2','2_aerobic_t180_2_chlor'),\n",
      "              'nor':('2_aerobic_Nor_t30_2','2_aerobic_Nor_t60_2','2_aerobic_t180_6_nor')}\n",
      "colnames_in_order=[x for rep in [column_names_rep1,column_names_rep2] for cond in rep for x in rep[cond] ]\n",
      "\n",
      "# Now make pseudo-counts\n",
      "proportions = (df+1).apply(lambda x:x/sum(x))\n",
      "\n",
      "normalized = pd.DataFrame(index=df.index)\n",
      "#proportions.to_csv('proportions.csv')\n",
      "for rep in [column_names_rep1, column_names_rep2]:\n",
      "    for antibiotic in ['chlor','nor']:\n",
      "        for t in [0,1,2]:\n",
      "            col_name = rep[antibiotic][t]\n",
      "            normalized[col_name] = proportions[col_name]/proportions[rep['control'][t]]\n",
      "normalized = log2(normalized)\n",
      "normalized.to_csv(\"log_ratios.csv\")"
     ],
     "language": "python",
     "metadata": {},
     "outputs": [],
     "prompt_number": 10
    }
   ],
   "metadata": {}
  }
 ]
}
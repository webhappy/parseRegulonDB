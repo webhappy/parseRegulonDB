{
 "metadata": {
  "name": "",
  "signature": "sha256:c1cda784898a2b502f3217fbb7c62a2e9b262d8d9d418f4ff2d32538dbed1a70"
 },
 "nbformat": 3,
 "nbformat_minor": 0,
 "worksheets": [
  {
   "cells": [
    {
     "cell_type": "code",
     "collapsed": false,
     "input": [
      "import pandas as pd\n",
      "import numpy as np\n",
      "import mysql.connector\n",
      "\n",
      "df = pd.read_csv('Master sheet of OLS singles experiments - Samples.csv')\n",
      "cnx = mysql.connector.connect(user='davidc', password='mysql_password', host='127.0.0.1',  database='CRISPR')"
     ],
     "language": "python",
     "metadata": {},
     "outputs": [],
     "prompt_number": 2
    },
    {
     "cell_type": "code",
     "collapsed": false,
     "input": [
      "subset = df.iloc[3:,]\n",
      "runs = []\n",
      "cursor = cnx.cursor(buffered=True)\n",
      "for row_idx, row in subset.iterrows():\n",
      "    idx = row['Psuedo_index to append to file name']\n",
      "    if idx not in runs:\n",
      "        #print \"New run detected: \",row['Inline barcode name'],row['Sample name'],'\\t', row['Index name'], row['Index sequence']\n",
      "        runs.append(idx)\n",
      "        cursor.execute('INSERT into RUNS set date=%s, description=%s',('2014-06-06','HiSEQ_antibiotics_%i'%idx) )\n",
      "        print cursor.statement\n",
      "        cur_runID = cursor.lastrowid\n",
      "    #print row\n",
      "    cursor.execute('INSERT into SAMPLES set barcode=%s, description=%s, runID=%s, media=%s',(row['Inline barcode sequence'],row['Sample name'].strip(),cur_runID,'LB'))\n",
      "cnx.commit()    "
     ],
     "language": "python",
     "metadata": {},
     "outputs": [
      {
       "output_type": "stream",
       "stream": "stdout",
       "text": [
        "INSERT into RUNS set date='2014-06-06', description='HiSEQ_antibiotics_1'\n",
        "INSERT into RUNS set date='2014-06-06', description='HiSEQ_antibiotics_2'\n",
        "INSERT into RUNS set date='2014-06-06', description='HiSEQ_antibiotics_3'\n",
        "INSERT into RUNS set date='2014-06-06', description='HiSEQ_antibiotics_4'\n",
        "INSERT into RUNS set date='2014-06-06', description='HiSEQ_antibiotics_5'\n",
        "INSERT into RUNS set date='2014-06-06', description='HiSEQ_antibiotics_6'\n",
        "INSERT into RUNS set date='2014-06-06', description='HiSEQ_antibiotics_7'\n",
        "INSERT into RUNS set date='2014-06-06', description='HiSEQ_antibiotics_8'\n"
       ]
      }
     ],
     "prompt_number": 16
    }
   ],
   "metadata": {}
  }
 ]
}